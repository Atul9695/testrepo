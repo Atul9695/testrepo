{
    "cells": [
        {
            "cell_type": "code",
            "execution_count": 3,
            "metadata": {},
            "outputs": [
                {
                    "data": {
                        "text/html": "<div>\n<style scoped>\n    .dataframe tbody tr th:only-of-type {\n        vertical-align: middle;\n    }\n\n    .dataframe tbody tr th {\n        vertical-align: top;\n    }\n\n    .dataframe thead th {\n        text-align: right;\n    }\n</style>\n<table border=\"1\" class=\"dataframe\">\n  <thead>\n    <tr style=\"text-align: right;\">\n      <th></th>\n      <th>Student Details</th>\n      <th>Unnamed: 1</th>\n      <th>Unnamed: 2</th>\n      <th>Unnamed: 3</th>\n      <th>Unnamed: 4</th>\n      <th>Unnamed: 5</th>\n      <th>Unnamed: 6</th>\n      <th>Unnamed: 7</th>\n      <th>Unnamed: 8</th>\n      <th>Unnamed: 9</th>\n      <th>...</th>\n      <th>Unnamed: 62</th>\n      <th>Unnamed: 63</th>\n      <th>Unnamed: 64</th>\n      <th>Unnamed: 65</th>\n      <th>Unnamed: 66</th>\n      <th>Unnamed: 67</th>\n      <th>Unnamed: 68</th>\n      <th>Unnamed: 69</th>\n      <th>Unnamed: 70</th>\n      <th>Unnamed: 71</th>\n    </tr>\n  </thead>\n  <tbody>\n    <tr>\n      <th>0</th>\n      <td>Student ID</td>\n      <td>Title</td>\n      <td>First Name</td>\n      <td>Middle Name</td>\n      <td>Last Name</td>\n      <td>Is Duplicate Student</td>\n      <td>Year1 (% marks)</td>\n      <td>Year2 (% marks)</td>\n      <td>Year3 (% marks)</td>\n      <td>Year4 (% marks)</td>\n      <td>...</td>\n      <td>Enrolment Id (EId)</td>\n      <td>Permanent Address line 1</td>\n      <td>Permanent Address Line 2</td>\n      <td>Permanent Address Line 3</td>\n      <td>Home State of the student</td>\n      <td>Home District of the student</td>\n      <td>Country</td>\n      <td>Pincode</td>\n      <td>Pragati/Saksham Scheme Status</td>\n      <td>Pragathi/Saksham Scheme Comments</td>\n    </tr>\n    <tr>\n      <th>1</th>\n      <td>1-3522489701</td>\n      <td>Miss</td>\n      <td>SHARAYU</td>\n      <td>SANGRAMSINH</td>\n      <td>RAJPUT</td>\n      <td>--</td>\n      <td>--</td>\n      <td>--</td>\n      <td>--</td>\n      <td>--</td>\n      <td>...</td>\n      <td>--</td>\n      <td>--</td>\n      <td>--</td>\n      <td>--</td>\n      <td>--</td>\n      <td>--</td>\n      <td>INDIA</td>\n      <td>--</td>\n      <td>--</td>\n      <td>--</td>\n    </tr>\n    <tr>\n      <th>2</th>\n      <td>1-3522489710</td>\n      <td>Mr.</td>\n      <td>SANKALP</td>\n      <td>UMESH</td>\n      <td>JOSHI</td>\n      <td>--</td>\n      <td>--</td>\n      <td>--</td>\n      <td>--</td>\n      <td>--</td>\n      <td>...</td>\n      <td>--</td>\n      <td>--</td>\n      <td>--</td>\n      <td>--</td>\n      <td>--</td>\n      <td>--</td>\n      <td>INDIA</td>\n      <td>--</td>\n      <td>--</td>\n      <td>--</td>\n    </tr>\n    <tr>\n      <th>3</th>\n      <td>1-3522489736</td>\n      <td>Miss</td>\n      <td>SNEHALI</td>\n      <td>PANDURANGRAO</td>\n      <td>DHAGE</td>\n      <td>--</td>\n      <td>--</td>\n      <td>--</td>\n      <td>--</td>\n      <td>--</td>\n      <td>...</td>\n      <td>--</td>\n      <td>--</td>\n      <td>--</td>\n      <td>--</td>\n      <td>--</td>\n      <td>--</td>\n      <td>INDIA</td>\n      <td>--</td>\n      <td>--</td>\n      <td>--</td>\n    </tr>\n    <tr>\n      <th>4</th>\n      <td>1-3522489752</td>\n      <td>Miss</td>\n      <td>RUKHSAR</td>\n      <td>ZAKIR</td>\n      <td>TAMBOLI</td>\n      <td>--</td>\n      <td>--</td>\n      <td>--</td>\n      <td>--</td>\n      <td>--</td>\n      <td>...</td>\n      <td>--</td>\n      <td>--</td>\n      <td>--</td>\n      <td>--</td>\n      <td>--</td>\n      <td>--</td>\n      <td>INDIA</td>\n      <td>--</td>\n      <td>--</td>\n      <td>--</td>\n    </tr>\n  </tbody>\n</table>\n<p>5 rows \u00d7 72 columns</p>\n</div>",
                        "text/plain": "  Student Details Unnamed: 1  Unnamed: 2    Unnamed: 3 Unnamed: 4  \\\n0      Student ID      Title  First Name   Middle Name  Last Name   \n1    1-3522489701       Miss     SHARAYU   SANGRAMSINH     RAJPUT   \n2    1-3522489710        Mr.     SANKALP         UMESH      JOSHI   \n3    1-3522489736       Miss     SNEHALI  PANDURANGRAO      DHAGE   \n4    1-3522489752       Miss     RUKHSAR         ZAKIR    TAMBOLI   \n\n             Unnamed: 5       Unnamed: 6       Unnamed: 7       Unnamed: 8  \\\n0  Is Duplicate Student  Year1 (% marks)  Year2 (% marks)  Year3 (% marks)   \n1                    --               --               --               --   \n2                    --               --               --               --   \n3                    --               --               --               --   \n4                    --               --               --               --   \n\n        Unnamed: 9  ...         Unnamed: 62               Unnamed: 63  \\\n0  Year4 (% marks)  ...  Enrolment Id (EId)  Permanent Address line 1   \n1               --  ...                  --                        --   \n2               --  ...                  --                        --   \n3               --  ...                  --                        --   \n4               --  ...                  --                        --   \n\n                Unnamed: 64               Unnamed: 65  \\\n0  Permanent Address Line 2  Permanent Address Line 3   \n1                        --                        --   \n2                        --                        --   \n3                        --                        --   \n4                        --                        --   \n\n                 Unnamed: 66                   Unnamed: 67 Unnamed: 68  \\\n0  Home State of the student  Home District of the student     Country   \n1                         --                            --       INDIA   \n2                         --                            --       INDIA   \n3                         --                            --       INDIA   \n4                         --                            --       INDIA   \n\n  Unnamed: 69                    Unnamed: 70                       Unnamed: 71  \n0     Pincode  Pragati/Saksham Scheme Status  Pragathi/Saksham Scheme Comments  \n1          --                             --                                --  \n2          --                             --                                --  \n3          --                             --                                --  \n4          --                             --                                --  \n\n[5 rows x 72 columns]"
                    },
                    "execution_count": 3,
                    "metadata": {},
                    "output_type": "execute_result"
                }
            ],
            "source": "# The code was removed by Watson Studio for sharing."
        },
        {
            "cell_type": "code",
            "execution_count": null,
            "metadata": {},
            "outputs": [],
            "source": ""
        }
    ],
    "metadata": {
        "kernelspec": {
            "display_name": "Python 3.6",
            "language": "python",
            "name": "python3"
        },
        "language_info": {
            "codemirror_mode": {
                "name": "ipython",
                "version": 3
            },
            "file_extension": ".py",
            "mimetype": "text/x-python",
            "name": "python",
            "nbconvert_exporter": "python",
            "pygments_lexer": "ipython3",
            "version": "3.6.9"
        }
    },
    "nbformat": 4,
    "nbformat_minor": 1
}